{
 "cells": [
  {
   "cell_type": "code",
   "execution_count": 1,
   "metadata": {},
   "outputs": [],
   "source": [
    "import pandas as pd\n",
    "import numpy as np"
   ]
  },
  {
   "cell_type": "code",
   "execution_count": 4,
   "metadata": {},
   "outputs": [
    {
     "name": "stdout",
     "output_type": "stream",
     "text": [
      "(77954, 6)\n"
     ]
    },
    {
     "data": {
      "text/html": [
       "<div>\n",
       "<style scoped>\n",
       "    .dataframe tbody tr th:only-of-type {\n",
       "        vertical-align: middle;\n",
       "    }\n",
       "\n",
       "    .dataframe tbody tr th {\n",
       "        vertical-align: top;\n",
       "    }\n",
       "\n",
       "    .dataframe thead th {\n",
       "        text-align: right;\n",
       "    }\n",
       "</style>\n",
       "<table border=\"1\" class=\"dataframe\">\n",
       "  <thead>\n",
       "    <tr style=\"text-align: right;\">\n",
       "      <th></th>\n",
       "      <th>DIA</th>\n",
       "      <th>FECHA</th>\n",
       "      <th>HORA</th>\n",
       "      <th>NO_STA</th>\n",
       "      <th>ESTACION</th>\n",
       "      <th>VIAJES_TOTAL</th>\n",
       "    </tr>\n",
       "  </thead>\n",
       "  <tbody>\n",
       "    <tr>\n",
       "      <th>0</th>\n",
       "      <td>MARTES</td>\n",
       "      <td>2019/01/01</td>\n",
       "      <td>4</td>\n",
       "      <td>12</td>\n",
       "      <td>Alameda</td>\n",
       "      <td>1</td>\n",
       "    </tr>\n",
       "    <tr>\n",
       "      <th>1</th>\n",
       "      <td>MARTES</td>\n",
       "      <td>2019/01/01</td>\n",
       "      <td>5</td>\n",
       "      <td>10</td>\n",
       "      <td>Ciencias de La Salud</td>\n",
       "      <td>3</td>\n",
       "    </tr>\n",
       "    <tr>\n",
       "      <th>2</th>\n",
       "      <td>MARTES</td>\n",
       "      <td>2019/01/01</td>\n",
       "      <td>5</td>\n",
       "      <td>11</td>\n",
       "      <td>Juan Alvarez</td>\n",
       "      <td>5</td>\n",
       "    </tr>\n",
       "    <tr>\n",
       "      <th>3</th>\n",
       "      <td>MARTES</td>\n",
       "      <td>2019/01/01</td>\n",
       "      <td>5</td>\n",
       "      <td>12</td>\n",
       "      <td>Alameda</td>\n",
       "      <td>5</td>\n",
       "    </tr>\n",
       "    <tr>\n",
       "      <th>4</th>\n",
       "      <td>MARTES</td>\n",
       "      <td>2019/01/01</td>\n",
       "      <td>5</td>\n",
       "      <td>13</td>\n",
       "      <td>San Juan de Dios</td>\n",
       "      <td>20</td>\n",
       "    </tr>\n",
       "  </tbody>\n",
       "</table>\n",
       "</div>"
      ],
      "text/plain": [
       "         DIA       FECHA  HORA  NO_STA              ESTACION  VIAJES_TOTAL\n",
       "0  MARTES     2019/01/01     4      12               Alameda             1\n",
       "1  MARTES     2019/01/01     5      10  Ciencias de La Salud             3\n",
       "2  MARTES     2019/01/01     5      11          Juan Alvarez             5\n",
       "3  MARTES     2019/01/01     5      12               Alameda             5\n",
       "4  MARTES     2019/01/01     5      13      San Juan de Dios            20"
      ]
     },
     "execution_count": 4,
     "metadata": {},
     "output_type": "execute_result"
    }
   ],
   "source": [
    "df = pd.read_csv('../data/external/Viajes_BRT/Viajes_BRT_2019.csv', encoding='iso-8859-1')\n",
    "print(df.shape)\n",
    "df.head(5)"
   ]
  },
  {
   "cell_type": "markdown",
   "metadata": {},
   "source": [
    "Media por día ya que los datos de personas ocupadas, y personas viviendo no tienen temporalidad, se puede asumir que los otros también manejan información en un día promedio, por lo tanto no afectan las unidades."
   ]
  },
  {
   "cell_type": "code",
   "execution_count": null,
   "metadata": {},
   "outputs": [],
   "source": []
  }
 ],
 "metadata": {
  "kernelspec": {
   "display_name": "Python 3.8.3 64-bit ('geo_env': conda)",
   "language": "python",
   "name": "python38364bitgeoenvconda2cb6af09078d46c89f7c036ca6304ba0"
  },
  "language_info": {
   "codemirror_mode": {
    "name": "ipython",
    "version": 3
   },
   "file_extension": ".py",
   "mimetype": "text/x-python",
   "name": "python",
   "nbconvert_exporter": "python",
   "pygments_lexer": "ipython3",
   "version": "3.8.3"
  }
 },
 "nbformat": 4,
 "nbformat_minor": 4
}
