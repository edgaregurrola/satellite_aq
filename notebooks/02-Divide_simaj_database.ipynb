{
 "cells": [
  {
   "cell_type": "code",
   "execution_count": 1,
   "metadata": {},
   "outputs": [],
   "source": [
    "import pandas as pd\n",
    "import os"
   ]
  },
  {
   "cell_type": "code",
   "execution_count": 10,
   "metadata": {},
   "outputs": [
    {
     "data": {
      "text/plain": [
       "'2016'"
      ]
     },
     "execution_count": 10,
     "metadata": {},
     "output_type": "execute_result"
    }
   ],
   "source": [
    "t = '2016_hour'\n",
    "t[:4]"
   ]
  },
  {
   "cell_type": "code",
   "execution_count": 19,
   "metadata": {},
   "outputs": [],
   "source": [
    "path = '../data/processed/'\n",
    "\n",
    "for c in os.listdir(path):\n",
    "    \n",
    "    if c.endswith('.csv'):\n",
    "        \n",
    "        df = pd.read_csv(path + c)\n",
    "        \n",
    "        for p in df.PARAM.unique():\n",
    "            df.loc[df.PARAM==p].to_csv(f'../data/processed/{c[:4]}/{c[:4]}_{p}_hour.csv', index=False)"
   ]
  },
  {
   "cell_type": "code",
   "execution_count": 17,
   "metadata": {},
   "outputs": [
    {
     "ename": "TypeError",
     "evalue": "'method' object is not iterable",
     "output_type": "error",
     "traceback": [
      "\u001b[0;31m---------------------------------------------------------------------------\u001b[0m",
      "\u001b[0;31mTypeError\u001b[0m                                 Traceback (most recent call last)",
      "\u001b[0;32m<ipython-input-17-0a4d0891ec64>\u001b[0m in \u001b[0;36m<module>\u001b[0;34m\u001b[0m\n\u001b[1;32m      7\u001b[0m         \u001b[0mdf\u001b[0m \u001b[0;34m=\u001b[0m \u001b[0mpd\u001b[0m\u001b[0;34m.\u001b[0m\u001b[0mread_csv\u001b[0m\u001b[0;34m(\u001b[0m\u001b[0mpath\u001b[0m \u001b[0;34m+\u001b[0m \u001b[0mc\u001b[0m\u001b[0;34m)\u001b[0m\u001b[0;34m\u001b[0m\u001b[0;34m\u001b[0m\u001b[0m\n\u001b[1;32m      8\u001b[0m \u001b[0;34m\u001b[0m\u001b[0m\n\u001b[0;32m----> 9\u001b[0;31m         \u001b[0mparam\u001b[0m \u001b[0;34m=\u001b[0m \u001b[0mlist\u001b[0m\u001b[0;34m(\u001b[0m\u001b[0mdf\u001b[0m\u001b[0;34m.\u001b[0m\u001b[0mPARAM\u001b[0m\u001b[0;34m.\u001b[0m\u001b[0munique\u001b[0m\u001b[0;34m)\u001b[0m\u001b[0;34m\u001b[0m\u001b[0;34m\u001b[0m\u001b[0m\n\u001b[0m\u001b[1;32m     10\u001b[0m         \u001b[0mprint\u001b[0m \u001b[0;34m(\u001b[0m\u001b[0mparam\u001b[0m\u001b[0;34m)\u001b[0m\u001b[0;34m\u001b[0m\u001b[0;34m\u001b[0m\u001b[0m\n",
      "\u001b[0;31mTypeError\u001b[0m: 'method' object is not iterable"
     ]
    }
   ],
   "source": [
    "path = '../data/processed/'\n",
    "\n",
    "for c in os.listdir(path):\n",
    "    \n",
    "    if c.endswith('.csv'):\n",
    "        \n",
    "        df = pd.read_csv(path + c)\n",
    "        \n",
    "        param = list(df.PARAM.unique)\n",
    "        print (param)"
   ]
  },
  {
   "cell_type": "code",
   "execution_count": 5,
   "metadata": {},
   "outputs": [],
   "source": [
    "years = [2016,2017,2018,2019]\n",
    "\n",
    "param = ['HR','TMP','WD','WS']\n",
    "\n",
    "path = '../data/processed/'\n",
    "\n",
    "for y in years:\n",
    "    \n",
    "    csv = f'{y}_hour.csv'\n",
    "    \n",
    "    df = pd.read_csv(path + csv)\n",
    "    \n",
    "    for p in param:\n",
    "        \n",
    "        df_md = df.loc[df.PARAM==p]\n",
    "        \n",
    "        df_md.set_index(['FECHA','HORA','PARAM'], inplace=True)\n",
    "        \n",
    "        df_md = df_md.reindex(sorted(df_md.columns), axis=1)\n",
    "        \n",
    "        df_md.to_csv(f'../data/processed/meteorological/{y}_{p}.csv')"
   ]
  },
  {
   "cell_type": "code",
   "execution_count": 12,
   "metadata": {},
   "outputs": [],
   "source": [
    "path = '../data/processed/meteorological/'\n",
    "\n",
    "param_year = {'HR':[2016,2017,2018,2019], 'TMP':[2016,2017,2018,2019],\n",
    "             'WD':[2016,2017,2018,2019], 'WS':[2016,2017,2018,2019]}\n",
    "\n",
    "for p in param_year.keys():\n",
    "    \n",
    "    df_ = pd.DataFrame()\n",
    "    \n",
    "    for y in param_year[p]:\n",
    "        \n",
    "        csv = f'{y}_{p}.csv'\n",
    "        \n",
    "        df = pd.read_csv(path + csv)\n",
    "        \n",
    "        df_ = df_.append(df)\n",
    "        \n",
    "    df_.to_csv(f'../data/processed/meteorological/{p}.csv', index=False)"
   ]
  },
  {
   "cell_type": "code",
   "execution_count": 7,
   "metadata": {},
   "outputs": [
    {
     "data": {
      "text/plain": [
       "dict_keys(['HR', 'TMP', 'WD', 'WS'])"
      ]
     },
     "execution_count": 7,
     "metadata": {},
     "output_type": "execute_result"
    }
   ],
   "source": [
    "param_year = {'HR':[2016,2017,2018,2019], 'TMP':[2016,2017,2018,2019],\n",
    "             'WD':[2016,2017,2018,2019], 'WS':[2016,2017,2018,2019]}\n",
    "\n",
    "param_year.keys()"
   ]
  },
  {
   "cell_type": "code",
   "execution_count": null,
   "metadata": {},
   "outputs": [],
   "source": []
  }
 ],
 "metadata": {
  "kernelspec": {
   "display_name": "Python 3.8.3 64-bit ('geo_env': conda)",
   "language": "python",
   "name": "python38364bitgeoenvconda2cb6af09078d46c89f7c036ca6304ba0"
  },
  "language_info": {
   "codemirror_mode": {
    "name": "ipython",
    "version": 3
   },
   "file_extension": ".py",
   "mimetype": "text/x-python",
   "name": "python",
   "nbconvert_exporter": "python",
   "pygments_lexer": "ipython3",
   "version": "3.8.3"
  }
 },
 "nbformat": 4,
 "nbformat_minor": 4
}
